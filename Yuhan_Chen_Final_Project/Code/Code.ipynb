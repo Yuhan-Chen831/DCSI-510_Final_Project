{
 "cells": [
  {
   "cell_type": "markdown",
   "metadata": {},
   "source": [
    "git:https://github.com/Yuhan-Chen831/DCSI-510_Final_Project"
   ]
  },
  {
   "cell_type": "code",
   "execution_count": 1,
   "metadata": {},
   "outputs": [],
   "source": [
    "import numpy as np \n",
    "import pandas as pd\n",
    "import matplotlib.pyplot as plt\n",
    "import seaborn as sns\n",
    "import scipy.stats as stats\n",
    "import statsmodels.api as sm\n",
    "import statsmodels.formula.api as smf\n",
    "import statsmodels.stats.api as sms # BP test\n",
    "from stargazer.stargazer import Stargazer\n",
    "from IPython.core.display import HTML\n",
    "import statsmodels.stats.outliers_influence as smo\n",
    "import patsy as pt\n",
    "from statsmodels.stats.outliers_influence import variance_inflation_factor\n",
    "from statsmodels.stats.anova import anova_lm"
   ]
  },
  {
   "cell_type": "code",
   "execution_count": 2,
   "metadata": {},
   "outputs": [
    {
     "name": "stdout",
     "output_type": "stream",
     "text": [
      "   Unnamed: 0  carat      cut color clarity  depth  table  price     x     y  \\\n",
      "0           1   0.23    Ideal     E     SI2   61.5   55.0    326  3.95  3.98   \n",
      "1           2   0.21  Premium     E     SI1   59.8   61.0    326  3.89  3.84   \n",
      "2           3   0.23     Good     E     VS1   56.9   65.0    327  4.05  4.07   \n",
      "3           4   0.29  Premium     I     VS2   62.4   58.0    334  4.20  4.23   \n",
      "4           5   0.31     Good     J     SI2   63.3   58.0    335  4.34  4.35   \n",
      "\n",
      "      z  \n",
      "0  2.43  \n",
      "1  2.31  \n",
      "2  2.31  \n",
      "3  2.63  \n",
      "4  2.75  \n"
     ]
    }
   ],
   "source": [
    "# read csv \n",
    "diamonds = pd.read_csv('https://raw.githubusercontent.com/amankharwal/Website-data/master/diamonds.csv')\n",
    "# display the dataset\n",
    "print(diamonds.head())"
   ]
  },
  {
   "cell_type": "code",
   "execution_count": 3,
   "metadata": {},
   "outputs": [
    {
     "name": "stdout",
     "output_type": "stream",
     "text": [
      "The DataFrame object\n",
      "       Unnamed: 0  carat        cut color clarity  depth  table  price     x  \\\n",
      "0               1   0.23      Ideal     E     SI2   61.5   55.0    326  3.95   \n",
      "1               2   0.21    Premium     E     SI1   59.8   61.0    326  3.89   \n",
      "2               3   0.23       Good     E     VS1   56.9   65.0    327  4.05   \n",
      "3               4   0.29    Premium     I     VS2   62.4   58.0    334  4.20   \n",
      "4               5   0.31       Good     J     SI2   63.3   58.0    335  4.34   \n",
      "...           ...    ...        ...   ...     ...    ...    ...    ...   ...   \n",
      "53935       53936   0.72      Ideal     D     SI1   60.8   57.0   2757  5.75   \n",
      "53936       53937   0.72       Good     D     SI1   63.1   55.0   2757  5.69   \n",
      "53937       53938   0.70  Very Good     D     SI1   62.8   60.0   2757  5.66   \n",
      "53938       53939   0.86    Premium     H     SI2   61.0   58.0   2757  6.15   \n",
      "53939       53940   0.75      Ideal     D     SI2   62.2   55.0   2757  5.83   \n",
      "\n",
      "          y     z  \n",
      "0      3.98  2.43  \n",
      "1      3.84  2.31  \n",
      "2      4.07  2.31  \n",
      "3      4.23  2.63  \n",
      "4      4.35  2.75  \n",
      "...     ...   ...  \n",
      "53935  5.76  3.50  \n",
      "53936  5.75  3.61  \n",
      "53937  5.68  3.56  \n",
      "53938  6.12  3.74  \n",
      "53939  5.87  3.64  \n",
      "\n",
      "[53940 rows x 11 columns]\n"
     ]
    }
   ],
   "source": [
    "#Create a dataframe\n",
    "df = pd.DataFrame(diamonds)\n",
    "print(\"The DataFrame object\")\n",
    "print(df)"
   ]
  },
  {
   "cell_type": "code",
   "execution_count": 4,
   "metadata": {},
   "outputs": [
    {
     "name": "stdout",
     "output_type": "stream",
     "text": [
      "<class 'pandas.core.frame.DataFrame'>\n",
      "RangeIndex: 53940 entries, 0 to 53939\n",
      "Data columns (total 11 columns):\n",
      " #   Column      Non-Null Count  Dtype  \n",
      "---  ------      --------------  -----  \n",
      " 0   Unnamed: 0  53940 non-null  int64  \n",
      " 1   carat       53940 non-null  float64\n",
      " 2   cut         53940 non-null  object \n",
      " 3   color       53940 non-null  object \n",
      " 4   clarity     53940 non-null  object \n",
      " 5   depth       53940 non-null  float64\n",
      " 6   table       53940 non-null  float64\n",
      " 7   price       53940 non-null  int64  \n",
      " 8   x           53940 non-null  float64\n",
      " 9   y           53940 non-null  float64\n",
      " 10  z           53940 non-null  float64\n",
      "dtypes: float64(6), int64(2), object(3)\n",
      "memory usage: 4.5+ MB\n"
     ]
    }
   ],
   "source": [
    "df.info()"
   ]
  },
  {
   "cell_type": "code",
   "execution_count": 5,
   "metadata": {},
   "outputs": [
    {
     "data": {
      "text/html": [
       "<div>\n",
       "<style scoped>\n",
       "    .dataframe tbody tr th:only-of-type {\n",
       "        vertical-align: middle;\n",
       "    }\n",
       "\n",
       "    .dataframe tbody tr th {\n",
       "        vertical-align: top;\n",
       "    }\n",
       "\n",
       "    .dataframe thead th {\n",
       "        text-align: right;\n",
       "    }\n",
       "</style>\n",
       "<table border=\"1\" class=\"dataframe\">\n",
       "  <thead>\n",
       "    <tr style=\"text-align: right;\">\n",
       "      <th></th>\n",
       "      <th>Unnamed: 0</th>\n",
       "      <th>carat</th>\n",
       "      <th>depth</th>\n",
       "      <th>table</th>\n",
       "      <th>price</th>\n",
       "      <th>x</th>\n",
       "      <th>y</th>\n",
       "      <th>z</th>\n",
       "    </tr>\n",
       "  </thead>\n",
       "  <tbody>\n",
       "    <tr>\n",
       "      <th>count</th>\n",
       "      <td>53940.0</td>\n",
       "      <td>53940.0</td>\n",
       "      <td>53940.0</td>\n",
       "      <td>53940.0</td>\n",
       "      <td>53940.0</td>\n",
       "      <td>53940.0</td>\n",
       "      <td>53940.0</td>\n",
       "      <td>53940.0</td>\n",
       "    </tr>\n",
       "    <tr>\n",
       "      <th>mean</th>\n",
       "      <td>26970.0</td>\n",
       "      <td>1.0</td>\n",
       "      <td>62.0</td>\n",
       "      <td>57.0</td>\n",
       "      <td>3933.0</td>\n",
       "      <td>6.0</td>\n",
       "      <td>6.0</td>\n",
       "      <td>4.0</td>\n",
       "    </tr>\n",
       "    <tr>\n",
       "      <th>std</th>\n",
       "      <td>15571.0</td>\n",
       "      <td>0.0</td>\n",
       "      <td>1.0</td>\n",
       "      <td>2.0</td>\n",
       "      <td>3989.0</td>\n",
       "      <td>1.0</td>\n",
       "      <td>1.0</td>\n",
       "      <td>1.0</td>\n",
       "    </tr>\n",
       "    <tr>\n",
       "      <th>min</th>\n",
       "      <td>1.0</td>\n",
       "      <td>0.0</td>\n",
       "      <td>43.0</td>\n",
       "      <td>43.0</td>\n",
       "      <td>326.0</td>\n",
       "      <td>0.0</td>\n",
       "      <td>0.0</td>\n",
       "      <td>0.0</td>\n",
       "    </tr>\n",
       "    <tr>\n",
       "      <th>25%</th>\n",
       "      <td>13486.0</td>\n",
       "      <td>0.0</td>\n",
       "      <td>61.0</td>\n",
       "      <td>56.0</td>\n",
       "      <td>950.0</td>\n",
       "      <td>5.0</td>\n",
       "      <td>5.0</td>\n",
       "      <td>3.0</td>\n",
       "    </tr>\n",
       "    <tr>\n",
       "      <th>50%</th>\n",
       "      <td>26970.0</td>\n",
       "      <td>1.0</td>\n",
       "      <td>62.0</td>\n",
       "      <td>57.0</td>\n",
       "      <td>2401.0</td>\n",
       "      <td>6.0</td>\n",
       "      <td>6.0</td>\n",
       "      <td>4.0</td>\n",
       "    </tr>\n",
       "    <tr>\n",
       "      <th>75%</th>\n",
       "      <td>40455.0</td>\n",
       "      <td>1.0</td>\n",
       "      <td>62.0</td>\n",
       "      <td>59.0</td>\n",
       "      <td>5324.0</td>\n",
       "      <td>7.0</td>\n",
       "      <td>7.0</td>\n",
       "      <td>4.0</td>\n",
       "    </tr>\n",
       "    <tr>\n",
       "      <th>max</th>\n",
       "      <td>53940.0</td>\n",
       "      <td>5.0</td>\n",
       "      <td>79.0</td>\n",
       "      <td>95.0</td>\n",
       "      <td>18823.0</td>\n",
       "      <td>11.0</td>\n",
       "      <td>59.0</td>\n",
       "      <td>32.0</td>\n",
       "    </tr>\n",
       "  </tbody>\n",
       "</table>\n",
       "</div>"
      ],
      "text/plain": [
       "       Unnamed: 0    carat    depth    table    price        x        y  \\\n",
       "count     53940.0  53940.0  53940.0  53940.0  53940.0  53940.0  53940.0   \n",
       "mean      26970.0      1.0     62.0     57.0   3933.0      6.0      6.0   \n",
       "std       15571.0      0.0      1.0      2.0   3989.0      1.0      1.0   \n",
       "min           1.0      0.0     43.0     43.0    326.0      0.0      0.0   \n",
       "25%       13486.0      0.0     61.0     56.0    950.0      5.0      5.0   \n",
       "50%       26970.0      1.0     62.0     57.0   2401.0      6.0      6.0   \n",
       "75%       40455.0      1.0     62.0     59.0   5324.0      7.0      7.0   \n",
       "max       53940.0      5.0     79.0     95.0  18823.0     11.0     59.0   \n",
       "\n",
       "             z  \n",
       "count  53940.0  \n",
       "mean       4.0  \n",
       "std        1.0  \n",
       "min        0.0  \n",
       "25%        3.0  \n",
       "50%        4.0  \n",
       "75%        4.0  \n",
       "max       32.0  "
      ]
     },
     "execution_count": 5,
     "metadata": {},
     "output_type": "execute_result"
    }
   ],
   "source": [
    "df.describe().round()"
   ]
  },
  {
   "cell_type": "code",
   "execution_count": 6,
   "metadata": {},
   "outputs": [
    {
     "data": {
      "text/html": [
       "<div>\n",
       "<style scoped>\n",
       "    .dataframe tbody tr th:only-of-type {\n",
       "        vertical-align: middle;\n",
       "    }\n",
       "\n",
       "    .dataframe tbody tr th {\n",
       "        vertical-align: top;\n",
       "    }\n",
       "\n",
       "    .dataframe thead th {\n",
       "        text-align: right;\n",
       "    }\n",
       "</style>\n",
       "<table border=\"1\" class=\"dataframe\">\n",
       "  <thead>\n",
       "    <tr style=\"text-align: right;\">\n",
       "      <th></th>\n",
       "    </tr>\n",
       "  </thead>\n",
       "  <tbody>\n",
       "  </tbody>\n",
       "</table>\n",
       "</div>"
      ],
      "text/plain": [
       "Empty DataFrame\n",
       "Columns: []\n",
       "Index: []"
      ]
     },
     "execution_count": 6,
     "metadata": {},
     "output_type": "execute_result"
    }
   ],
   "source": [
    "# correlation matrix\n",
    "cormat = diamonds[[]]\n",
    "cormat.corr().round(decimals=3)"
   ]
  },
  {
   "cell_type": "code",
   "execution_count": 7,
   "metadata": {},
   "outputs": [
    {
     "data": {
      "image/png": "[encoded data removed]",
      "text/plain": [
       "<Figure size 720x576 with 9 Axes>"
      ]
     },
     "metadata": {
      "needs_background": "light"
     },
     "output_type": "display_data"
    }
   ],
   "source": [
    "# correlation graphs\n",
    "pd.plotting.scatter_matrix(diamonds[['carat','cut', 'color', 'clarity', 'depth', 'table']], alpha=0.5, figsize=(10, 8));"
   ]
  },
  {
   "cell_type": "code",
   "execution_count": 8,
   "metadata": {},
   "outputs": [
    {
     "data": {
      "image/png": "[encoded data removed]",
      "text/plain": [
       "<Figure size 432x288 with 2 Axes>"
      ]
     },
     "metadata": {
      "needs_background": "light"
     },
     "output_type": "display_data"
    }
   ],
   "source": [
    "# heatmap\n",
    "correlations = df.corr()\n",
    "import seaborn as sns\n",
    "import matplotlib.pyplot as plt\n",
    "sns.heatmap(correlations,cmap='GnBu')\n",
    "plt.show()\n"
   ]
  },
  {
   "cell_type": "markdown",
   "metadata": {},
   "source": [
    "Quantitative analysis"
   ]
  },
  {
   "cell_type": "code",
   "execution_count": 9,
   "metadata": {},
   "outputs": [
    {
     "data": {
      "text/plain": [
       "(325.0, 20000.0)"
      ]
     },
     "execution_count": 9,
     "metadata": {},
     "output_type": "execute_result"
    },
    {
     "data": {
      "image/png": "[encoded data removed]",
      "text/plain": [
       "<Figure size 432x288 with 1 Axes>"
      ]
     },
     "metadata": {},
     "output_type": "display_data"
    }
   ],
   "source": [
    "# individual quantitative variable analysis\n",
    "sns.set_theme(color_codes=True)\n",
    "plot1 = sns.regplot(x=\"carat\", y=\"price\", data=df, color='blue')\n",
    "plot1.set_title('Price versus carat')\n",
    "plot1.set_ylim(325,20000)"
   ]
  },
  {
   "cell_type": "markdown",
   "metadata": {},
   "source": [
    "From the graph above, I found that there is a direct relationship between carat and price, and the slope of the linear regression model is big, which means an increase in carat will lead to a large increase in price.\n",
    "\n"
   ]
  },
  {
   "cell_type": "code",
   "execution_count": 10,
   "metadata": {},
   "outputs": [
    {
     "data": {
      "text/plain": [
       "(50.0, 75.0)"
      ]
     },
     "execution_count": 10,
     "metadata": {},
     "output_type": "execute_result"
    },
    {
     "data": {
      "image/png": "[encoded data removed]",
      "text/plain": [
       "<Figure size 432x288 with 1 Axes>"
      ]
     },
     "metadata": {},
     "output_type": "display_data"
    }
   ],
   "source": [
    "plot2 = sns.regplot(x=\"depth\", y=\"price\", data=df, color = 'purple')\n",
    "plot2.set_title('Price versus depth')\n",
    "plot2.set_xlim(50,75)\n"
   ]
  },
  {
   "cell_type": "markdown",
   "metadata": {},
   "source": [
    "From the graph above, I found that the change in depth does not result in significant changes in the price of diamonds."
   ]
  },
  {
   "cell_type": "code",
   "execution_count": 11,
   "metadata": {},
   "outputs": [
    {
     "data": {
      "text/plain": [
       "(40.0, 80.0)"
      ]
     },
     "execution_count": 11,
     "metadata": {},
     "output_type": "execute_result"
    },
    {
     "data": {
      "image/png": "[encoded data removed]",
      "text/plain": [
       "<Figure size 432x288 with 1 Axes>"
      ]
     },
     "metadata": {},
     "output_type": "display_data"
    }
   ],
   "source": [
    "plot3 = sns.regplot(x=\"table\", y=\"price\", data=diamonds, color='orange')\n",
    "plot3.set_title('Price versus table')\n",
    "plot3.set_xlim(40,80)"
   ]
  },
  {
   "cell_type": "markdown",
   "metadata": {},
   "source": [
    "From the graph above, I found that there is a direct relationship between table and price, but the slope of the linear regression model is relatively small compared to carat, which means the influence on the price of table is smaller than the influence of carat."
   ]
  },
  {
   "cell_type": "code",
   "execution_count": 12,
   "metadata": {},
   "outputs": [
    {
     "data": {
      "text/plain": [
       "[1610, 4906, 12082, 13791, 21551]"
      ]
     },
     "execution_count": 12,
     "metadata": {},
     "output_type": "execute_result"
    }
   ],
   "source": [
    "cut = ['Fair', 'Good', 'Very Good', 'Premium', 'Ideal']\n",
    "cut_len = []\n",
    "for i in cut:\n",
    "    aux = diamonds.apply(lambda x: True if x['cut'] == i else False, axis=1)\n",
    "    aux_len = len(aux[aux == True].index)\n",
    "    cut_len.append(aux_len)\n",
    "cut_len\n",
    "# individual qualitative variable analysis\n",
    "# number of different kinds of cuts"
   ]
  },
  {
   "cell_type": "code",
   "execution_count": 13,
   "metadata": {},
   "outputs": [
    {
     "data": {
      "image/png": "[encoded data removed]",
      "text/plain": [
       "<Figure size 432x288 with 1 Axes>"
      ]
     },
     "metadata": {},
     "output_type": "display_data"
    }
   ],
   "source": [
    "# pie chart for cut\n",
    "labels = 'Fair', 'Good', 'Very Good', 'Premium', 'Ideal'\n",
    "sizes = [1610, 4906, 12082, 13791,21551]\n",
    "colors = ['gold', 'yellowgreen', 'lightcoral', 'lightskyblue', 'purple']\n",
    "explode = (0.1, 0.1, 0.1, 0.1, 0.1) \n",
    "plt.pie(sizes, explode=explode, labels=labels, colors=colors,\n",
    "autopct='%1.1f%%', shadow=True, startangle=140)\n",
    "plt.title('Percentage of Different Kinds of Cut')\n",
    "\n",
    "plt.axis('equal')\n",
    "plt.show()"
   ]
  },
  {
   "cell_type": "markdown",
   "metadata": {},
   "source": [
    "From the pie chart, I found that the percentage of ideally-cut diamonds is the biggest while the percentage of fairly-cut diamonds is the smallest."
   ]
  },
  {
   "cell_type": "code",
   "execution_count": 14,
   "metadata": {},
   "outputs": [
    {
     "data": {
      "text/plain": [
       "[6775, 9797, 9542, 11292, 8304, 5422, 2808]"
      ]
     },
     "execution_count": 14,
     "metadata": {},
     "output_type": "execute_result"
    }
   ],
   "source": [
    "# number of different kinds of colors\n",
    "color = ('D', 'E', 'F', 'G', 'H', 'I', 'J')\n",
    "color_len = []\n",
    "for i in color:\n",
    "    aux = diamonds.apply(lambda x: True if x['color'] == i else False, axis=1)\n",
    "    aux_len = len(aux[aux == True].index)\n",
    "    color_len.append(aux_len)\n",
    "color_len"
   ]
  },
  {
   "cell_type": "code",
   "execution_count": 15,
   "metadata": {},
   "outputs": [
    {
     "data": {
      "image/png": "[encoded data removed]",
      "text/plain": [
       "<Figure size 432x288 with 1 Axes>"
      ]
     },
     "metadata": {},
     "output_type": "display_data"
    }
   ],
   "source": [
    "# bar chart for color\n",
    "plt.bar(color, color_len, align='center',color='r', alpha=0.8)\n",
    "plt.title('Amount of each color')\n",
    "plt.xlabel('Color from Worst to Best')\n",
    "plt.ylabel('Amount')\n",
    "plt.show()\n"
   ]
  },
  {
   "cell_type": "markdown",
   "metadata": {},
   "source": [
    "From the graph above, this is a quantitative distribution of different kinds of colors, and the graph is right-skewed. I can also found that the amount of color \"G\" is the largest and the amount of color \"J\" is the smallest."
   ]
  },
  {
   "cell_type": "code",
   "execution_count": 16,
   "metadata": {},
   "outputs": [],
   "source": [
    "# create a sub-dataset for each cut\n",
    "cut_ide = diamonds.loc[diamonds['cut'] == 'Ideal'] ## select a sub-dataset where cut is Ideal\n",
    "cut_pre = diamonds.loc[diamonds['cut'] == 'Premium'] ## select a sub-dataset where cut is Premium\n",
    "cut_vgood = diamonds.loc[diamonds['cut'] == 'Very Good'] ## select a sub-dataset where cut is very Good\n",
    "cut_good = diamonds.loc[diamonds['cut'] == 'Good'] ## select a sub-dataset where cut is Good\n",
    "cut_fair = diamonds.loc[diamonds['cut'] == 'Fair'] ## select a sub-dataset where cut is Fair"
   ]
  },
  {
   "cell_type": "code",
   "execution_count": 17,
   "metadata": {},
   "outputs": [
    {
     "data": {
      "text/plain": [
       "[[2834, 3903, 3826, 4884, 3115, 2093, 896],\n",
       " [1603, 2337, 2331, 2924, 2360, 1428, 808],\n",
       " [1513, 2400, 2164, 2299, 1824, 1204, 678],\n",
       " [662, 933, 909, 871, 702, 522, 307],\n",
       " [163, 224, 312, 314, 303, 175, 119]]"
      ]
     },
     "execution_count": 17,
     "metadata": {},
     "output_type": "execute_result"
    }
   ],
   "source": [
    "# number of different kinds of color for each cut\n",
    "cut_ide_color = []\n",
    "cut_pre_color = []\n",
    "cut_vgood_color = []\n",
    "cut_good_color = []\n",
    "cut_fair_color = []\n",
    "for i in color:\n",
    "    aux = cut_ide.apply(lambda x: True if x['color'] == i else False, axis=1)\n",
    "    aux_len = len(aux[aux == True].index)\n",
    "    cut_ide_color.append(aux_len)\n",
    "for i in color:\n",
    "    aux = cut_pre.apply(lambda x: True if x['color'] == i else False, axis=1)\n",
    "    aux_len = len(aux[aux == True].index)\n",
    "    cut_pre_color.append(aux_len)\n",
    "for i in color:\n",
    "    aux = cut_vgood.apply(lambda x: True if x['color'] == i else False, axis=1)\n",
    "    aux_len = len(aux[aux == True].index)\n",
    "    cut_vgood_color.append(aux_len)\n",
    "for i in color:\n",
    "    aux = cut_good.apply(lambda x: True if x['color'] == i else False, axis=1)\n",
    "    aux_len = len(aux[aux == True].index)\n",
    "    cut_good_color.append(aux_len)\n",
    "for i in color:\n",
    "    aux = cut_fair.apply(lambda x: True if x['color'] == i else False, axis=1)\n",
    "    aux_len = len(aux[aux == True].index)\n",
    "    cut_fair_color.append(aux_len)\n",
    "cut_color  = [cut_ide_color, cut_pre_color, cut_vgood_color, cut_good_color, cut_fair_color]\n",
    "cut_color\n"
   ]
  },
  {
   "cell_type": "code",
   "execution_count": 18,
   "metadata": {},
   "outputs": [
    {
     "data": {
      "image/png": "[encoded data removed]",
      "text/plain": [
       "<Figure size 432x288 with 1 Axes>"
      ]
     },
     "metadata": {},
     "output_type": "display_data"
    }
   ],
   "source": [
    "# distribution of color for each cut\n",
    "n_groups = 7\n",
    "fig, ax = plt.subplots()\n",
    "bar_width = 0.17\n",
    "opacity = 0.8\n",
    "index = np.arange(n_groups)\n",
    "\n",
    "plt.bar(index, cut_fair_color, bar_width,alpha=opacity,color='k',label='Fair')\n",
    "plt.bar(index+ bar_width, cut_good_color, bar_width,alpha=opacity,color='g',label='Good')\n",
    "plt.bar(index+ 2*bar_width, cut_vgood_color, bar_width,alpha=opacity,color='r',label='Very Good')\n",
    "plt.bar(index+ 3*bar_width, cut_pre_color, bar_width,alpha=opacity,color='y',label='Premium')\n",
    "plt.bar(index+ 4*bar_width, cut_ide_color, bar_width,alpha=opacity,color='b',label='Ideal')\n",
    "\n",
    "plt.xlabel('Color from worst to best')\n",
    "plt.ylabel('Amount')\n",
    "plt.title('Distribution of color for each cut')\n",
    "plt.xticks(index + 2*bar_width, color)\n",
    "plt.legend()\n",
    "\n",
    "plt.tight_layout()\n",
    "plt.show()\n"
   ]
  },
  {
   "cell_type": "markdown",
   "metadata": {},
   "source": [
    "From the graph above, I found that the quantitative distribution of color in each kind of cut is approximately normal distribution."
   ]
  },
  {
   "cell_type": "markdown",
   "metadata": {},
   "source": [
    "# Model 1"
   ]
  },
  {
   "cell_type": "code",
   "execution_count": 19,
   "metadata": {},
   "outputs": [
    {
     "name": "stdout",
     "output_type": "stream",
     "text": [
      "results.summary(): \n",
      "                            OLS Regression Results                            \n",
      "==============================================================================\n",
      "Dep. Variable:                  price   R-squared:                       0.916\n",
      "Model:                            OLS   Adj. R-squared:                  0.916\n",
      "Method:                 Least Squares   F-statistic:                 2.942e+04\n",
      "Date:                Mon, 12 Dec 2022   Prob (F-statistic):               0.00\n",
      "Time:                        00:11:11   Log-Likelihood:            -4.5696e+05\n",
      "No. Observations:               53940   AIC:                         9.140e+05\n",
      "Df Residuals:                   53919   BIC:                         9.141e+05\n",
      "Df Model:                          20                                         \n",
      "Covariance Type:            nonrobust                                         \n",
      "====================================================================================\n",
      "                       coef    std err          t      P>|t|      [0.025      0.975]\n",
      "------------------------------------------------------------------------------------\n",
      "Intercept        -4555.1714    373.482    -12.197      0.000   -5287.199   -3823.144\n",
      "cut[T.Good]        614.4239     34.337     17.894      0.000     547.122     681.726\n",
      "cut[T.Ideal]       877.5691     34.152     25.696      0.000     810.631     944.507\n",
      "cut[T.Premium]     806.0243     32.954     24.459      0.000     741.434     870.615\n",
      "cut[T.Very Good]   778.4282     32.936     23.635      0.000     713.874     842.982\n",
      "color[T.E]        -210.8490     18.304    -11.519      0.000    -246.726    -174.972\n",
      "color[T.F]        -304.2876     18.498    -16.450      0.000    -340.543    -268.032\n",
      "color[T.G]        -506.9637     18.116    -27.984      0.000    -542.472    -471.456\n",
      "color[T.H]        -977.9737     19.269    -50.754      0.000   -1015.741    -940.207\n",
      "color[T.I]       -1438.2773     21.642    -66.459      0.000   -1480.695   -1395.860\n",
      "color[T.J]       -2322.5649     26.715    -86.940      0.000   -2374.926   -2270.204\n",
      "clarity[T.IF]     5404.2365     52.174    103.582      0.000    5301.976    5506.497\n",
      "clarity[T.SI1]    3567.7938     44.587     80.020      0.000    3480.404    3655.184\n",
      "clarity[T.SI2]    2619.0040     44.788     58.476      0.000    2531.220    2706.788\n",
      "clarity[T.VS1]    4525.4001     45.547     99.356      0.000    4436.127    4614.673\n",
      "clarity[T.VS2]    4210.1943     44.840     93.893      0.000    4122.307    4298.082\n",
      "clarity[T.VVS1]   5061.7344     48.224    104.964      0.000    4967.216    5156.253\n",
      "clarity[T.VVS2]   4957.3104     46.901    105.697      0.000    4865.384    5049.237\n",
      "carat             8895.1940     12.079    736.390      0.000    8871.518    8918.870\n",
      "depth              -21.0236      4.079     -5.154      0.000     -29.019     -13.028\n",
      "table              -24.8027      2.978     -8.329      0.000     -30.639     -18.966\n",
      "==============================================================================\n",
      "Omnibus:                    15255.775   Durbin-Watson:                   0.908\n",
      "Prob(Omnibus):                  0.000   Jarque-Bera (JB):           184788.880\n",
      "Skew:                           1.016   Prob(JB):                         0.00\n",
      "Kurtosis:                      11.837   Cond. No.                     6.35e+03\n",
      "==============================================================================\n",
      "\n",
      "Notes:\n",
      "[1] Standard Errors assume that the covariance matrix of the errors is correctly specified.\n",
      "[2] The condition number is large, 6.35e+03. This might indicate that there are\n",
      "strong multicollinearity or other numerical problems.\n",
      "\n"
     ]
    }
   ],
   "source": [
    "# estimate the linear regression model:\n",
    "model1 = smf.ols(formula='price ~ cut + carat + color + clarity + depth + table', data=diamonds)\n",
    "model1 = model1.fit()\n",
    "\n",
    "# print results using summary:cut\n",
    "print(f'results.summary(): \\n{model1.summary()}\\n')"
   ]
  },
  {
   "cell_type": "markdown",
   "metadata": {},
   "source": [
    "From the OLS regression results of Model 1, I found that:\n",
    "\n",
    "(1) R-squared is the measurement of how much of the independent variable is explained by changes in our dependent variables. In percentage terms, 0.916 would mean Model 1 explains 91.6% of the change in our ‘price’ variable.\n",
    "\n",
    "(2) Adjusted R-squared does not change in Model 1 since there is no other variable adding to the explanatory power to the regression.\n",
    "\n",
    "(3) The intercept of Model 1 is -4555, which means it is a constant \"u\" added to explain a starting value for our line when all variables were tuned to 0.\n",
    "\n",
    "(4) The coefficient means one unit of change in the dependent variable will affect the variable’s coefficient’s worth of change in the independent variable. For example, the coefficient of depth is -21, which means one unit of change in depth will cause an inverse coefficient's worth of change in diamonds' price. Besides, I found that cut, clarity, and carat have a positive coefficient which indicates a direct relationship with price. Whereas, color, depth, and table have a negative coefficient which indicates an inverse relationship with price.\n",
    "\n",
    "(5) P>|t| uses the t statistic to produce the p value, a measurement of how likely the coefficient is measured through our model by chance. In Model 1, for example, the p value of 0 means that with a 95% probability of being correct that I reject the null hypothesis (there is no relationship between the independent variables and the dependent variable price). I can conclude that cut, color, clarity, carat, depth, table have a significant relationship with the price of diamonds.\n",
    "\n",
    "(6) [0.025 and 0.975] are both measurements of values of coefficients within 95% of our data, or within two standard deviations. Outside of these values can generally be considered outliers.\n",
    "\n",
    "(7) Prob(F-Statistic) is 0, which depicts that the probability of the null hypothesis being true is zero. This implies that the overall regression is meaningful and I should reject the null hypothesis (there is no relationship between the independent variables and the dependent variable price)."
   ]
  },
  {
   "cell_type": "markdown",
   "metadata": {},
   "source": [
    "# Model 2"
   ]
  },
  {
   "cell_type": "code",
   "execution_count": 21,
   "metadata": {},
   "outputs": [
    {
     "data": {
      "text/html": [
       "<div>\n",
       "<style scoped>\n",
       "    .dataframe tbody tr th:only-of-type {\n",
       "        vertical-align: middle;\n",
       "    }\n",
       "\n",
       "    .dataframe tbody tr th {\n",
       "        vertical-align: top;\n",
       "    }\n",
       "\n",
       "    .dataframe thead th {\n",
       "        text-align: right;\n",
       "    }\n",
       "</style>\n",
       "<table border=\"1\" class=\"dataframe\">\n",
       "  <thead>\n",
       "    <tr style=\"text-align: right;\">\n",
       "      <th></th>\n",
       "      <th>Unnamed: 0</th>\n",
       "      <th>carat</th>\n",
       "      <th>cut</th>\n",
       "      <th>color</th>\n",
       "      <th>clarity</th>\n",
       "      <th>depth</th>\n",
       "      <th>table</th>\n",
       "      <th>price</th>\n",
       "      <th>x</th>\n",
       "      <th>y</th>\n",
       "      <th>z</th>\n",
       "      <th>Fair</th>\n",
       "      <th>Good</th>\n",
       "      <th>Ideal</th>\n",
       "      <th>Premium</th>\n",
       "      <th>VeryGood</th>\n",
       "    </tr>\n",
       "  </thead>\n",
       "  <tbody>\n",
       "    <tr>\n",
       "      <th>0</th>\n",
       "      <td>1</td>\n",
       "      <td>0.23</td>\n",
       "      <td>Ideal</td>\n",
       "      <td>E</td>\n",
       "      <td>SI2</td>\n",
       "      <td>61.5</td>\n",
       "      <td>55.0</td>\n",
       "      <td>326</td>\n",
       "      <td>3.95</td>\n",
       "      <td>3.98</td>\n",
       "      <td>2.43</td>\n",
       "      <td>0</td>\n",
       "      <td>0</td>\n",
       "      <td>1</td>\n",
       "      <td>0</td>\n",
       "      <td>0</td>\n",
       "    </tr>\n",
       "    <tr>\n",
       "      <th>1</th>\n",
       "      <td>2</td>\n",
       "      <td>0.21</td>\n",
       "      <td>Premium</td>\n",
       "      <td>E</td>\n",
       "      <td>SI1</td>\n",
       "      <td>59.8</td>\n",
       "      <td>61.0</td>\n",
       "      <td>326</td>\n",
       "      <td>3.89</td>\n",
       "      <td>3.84</td>\n",
       "      <td>2.31</td>\n",
       "      <td>0</td>\n",
       "      <td>0</td>\n",
       "      <td>0</td>\n",
       "      <td>1</td>\n",
       "      <td>0</td>\n",
       "    </tr>\n",
       "    <tr>\n",
       "      <th>2</th>\n",
       "      <td>3</td>\n",
       "      <td>0.23</td>\n",
       "      <td>Good</td>\n",
       "      <td>E</td>\n",
       "      <td>VS1</td>\n",
       "      <td>56.9</td>\n",
       "      <td>65.0</td>\n",
       "      <td>327</td>\n",
       "      <td>4.05</td>\n",
       "      <td>4.07</td>\n",
       "      <td>2.31</td>\n",
       "      <td>0</td>\n",
       "      <td>1</td>\n",
       "      <td>0</td>\n",
       "      <td>0</td>\n",
       "      <td>0</td>\n",
       "    </tr>\n",
       "    <tr>\n",
       "      <th>3</th>\n",
       "      <td>4</td>\n",
       "      <td>0.29</td>\n",
       "      <td>Premium</td>\n",
       "      <td>I</td>\n",
       "      <td>VS2</td>\n",
       "      <td>62.4</td>\n",
       "      <td>58.0</td>\n",
       "      <td>334</td>\n",
       "      <td>4.20</td>\n",
       "      <td>4.23</td>\n",
       "      <td>2.63</td>\n",
       "      <td>0</td>\n",
       "      <td>0</td>\n",
       "      <td>0</td>\n",
       "      <td>1</td>\n",
       "      <td>0</td>\n",
       "    </tr>\n",
       "    <tr>\n",
       "      <th>4</th>\n",
       "      <td>5</td>\n",
       "      <td>0.31</td>\n",
       "      <td>Good</td>\n",
       "      <td>J</td>\n",
       "      <td>SI2</td>\n",
       "      <td>63.3</td>\n",
       "      <td>58.0</td>\n",
       "      <td>335</td>\n",
       "      <td>4.34</td>\n",
       "      <td>4.35</td>\n",
       "      <td>2.75</td>\n",
       "      <td>0</td>\n",
       "      <td>1</td>\n",
       "      <td>0</td>\n",
       "      <td>0</td>\n",
       "      <td>0</td>\n",
       "    </tr>\n",
       "    <tr>\n",
       "      <th>...</th>\n",
       "      <td>...</td>\n",
       "      <td>...</td>\n",
       "      <td>...</td>\n",
       "      <td>...</td>\n",
       "      <td>...</td>\n",
       "      <td>...</td>\n",
       "      <td>...</td>\n",
       "      <td>...</td>\n",
       "      <td>...</td>\n",
       "      <td>...</td>\n",
       "      <td>...</td>\n",
       "      <td>...</td>\n",
       "      <td>...</td>\n",
       "      <td>...</td>\n",
       "      <td>...</td>\n",
       "      <td>...</td>\n",
       "    </tr>\n",
       "    <tr>\n",
       "      <th>53935</th>\n",
       "      <td>53936</td>\n",
       "      <td>0.72</td>\n",
       "      <td>Ideal</td>\n",
       "      <td>D</td>\n",
       "      <td>SI1</td>\n",
       "      <td>60.8</td>\n",
       "      <td>57.0</td>\n",
       "      <td>2757</td>\n",
       "      <td>5.75</td>\n",
       "      <td>5.76</td>\n",
       "      <td>3.50</td>\n",
       "      <td>0</td>\n",
       "      <td>0</td>\n",
       "      <td>1</td>\n",
       "      <td>0</td>\n",
       "      <td>0</td>\n",
       "    </tr>\n",
       "    <tr>\n",
       "      <th>53936</th>\n",
       "      <td>53937</td>\n",
       "      <td>0.72</td>\n",
       "      <td>Good</td>\n",
       "      <td>D</td>\n",
       "      <td>SI1</td>\n",
       "      <td>63.1</td>\n",
       "      <td>55.0</td>\n",
       "      <td>2757</td>\n",
       "      <td>5.69</td>\n",
       "      <td>5.75</td>\n",
       "      <td>3.61</td>\n",
       "      <td>0</td>\n",
       "      <td>1</td>\n",
       "      <td>0</td>\n",
       "      <td>0</td>\n",
       "      <td>0</td>\n",
       "    </tr>\n",
       "    <tr>\n",
       "      <th>53937</th>\n",
       "      <td>53938</td>\n",
       "      <td>0.70</td>\n",
       "      <td>Very Good</td>\n",
       "      <td>D</td>\n",
       "      <td>SI1</td>\n",
       "      <td>62.8</td>\n",
       "      <td>60.0</td>\n",
       "      <td>2757</td>\n",
       "      <td>5.66</td>\n",
       "      <td>5.68</td>\n",
       "      <td>3.56</td>\n",
       "      <td>0</td>\n",
       "      <td>0</td>\n",
       "      <td>0</td>\n",
       "      <td>0</td>\n",
       "      <td>1</td>\n",
       "    </tr>\n",
       "    <tr>\n",
       "      <th>53938</th>\n",
       "      <td>53939</td>\n",
       "      <td>0.86</td>\n",
       "      <td>Premium</td>\n",
       "      <td>H</td>\n",
       "      <td>SI2</td>\n",
       "      <td>61.0</td>\n",
       "      <td>58.0</td>\n",
       "      <td>2757</td>\n",
       "      <td>6.15</td>\n",
       "      <td>6.12</td>\n",
       "      <td>3.74</td>\n",
       "      <td>0</td>\n",
       "      <td>0</td>\n",
       "      <td>0</td>\n",
       "      <td>1</td>\n",
       "      <td>0</td>\n",
       "    </tr>\n",
       "    <tr>\n",
       "      <th>53939</th>\n",
       "      <td>53940</td>\n",
       "      <td>0.75</td>\n",
       "      <td>Ideal</td>\n",
       "      <td>D</td>\n",
       "      <td>SI2</td>\n",
       "      <td>62.2</td>\n",
       "      <td>55.0</td>\n",
       "      <td>2757</td>\n",
       "      <td>5.83</td>\n",
       "      <td>5.87</td>\n",
       "      <td>3.64</td>\n",
       "      <td>0</td>\n",
       "      <td>0</td>\n",
       "      <td>1</td>\n",
       "      <td>0</td>\n",
       "      <td>0</td>\n",
       "    </tr>\n",
       "  </tbody>\n",
       "</table>\n",
       "<p>53940 rows × 16 columns</p>\n",
       "</div>"
      ],
      "text/plain": [
       "       Unnamed: 0  carat        cut color clarity  depth  table  price     x  \\\n",
       "0               1   0.23      Ideal     E     SI2   61.5   55.0    326  3.95   \n",
       "1               2   0.21    Premium     E     SI1   59.8   61.0    326  3.89   \n",
       "2               3   0.23       Good     E     VS1   56.9   65.0    327  4.05   \n",
       "3               4   0.29    Premium     I     VS2   62.4   58.0    334  4.20   \n",
       "4               5   0.31       Good     J     SI2   63.3   58.0    335  4.34   \n",
       "...           ...    ...        ...   ...     ...    ...    ...    ...   ...   \n",
       "53935       53936   0.72      Ideal     D     SI1   60.8   57.0   2757  5.75   \n",
       "53936       53937   0.72       Good     D     SI1   63.1   55.0   2757  5.69   \n",
       "53937       53938   0.70  Very Good     D     SI1   62.8   60.0   2757  5.66   \n",
       "53938       53939   0.86    Premium     H     SI2   61.0   58.0   2757  6.15   \n",
       "53939       53940   0.75      Ideal     D     SI2   62.2   55.0   2757  5.83   \n",
       "\n",
       "          y     z  Fair  Good  Ideal  Premium  VeryGood  \n",
       "0      3.98  2.43     0     0      1        0         0  \n",
       "1      3.84  2.31     0     0      0        1         0  \n",
       "2      4.07  2.31     0     1      0        0         0  \n",
       "3      4.23  2.63     0     0      0        1         0  \n",
       "4      4.35  2.75     0     1      0        0         0  \n",
       "...     ...   ...   ...   ...    ...      ...       ...  \n",
       "53935  5.76  3.50     0     0      1        0         0  \n",
       "53936  5.75  3.61     0     1      0        0         0  \n",
       "53937  5.68  3.56     0     0      0        0         1  \n",
       "53938  6.12  3.74     0     0      0        1         0  \n",
       "53939  5.87  3.64     0     0      1        0         0  \n",
       "\n",
       "[53940 rows x 16 columns]"
      ]
     },
     "execution_count": 21,
     "metadata": {},
     "output_type": "execute_result"
    }
   ],
   "source": [
    "cut_dummy = pd.get_dummies(diamonds['cut'])\n",
    "cut_dummy2 = cut_dummy.rename(columns = {\"Very Good\": \"VeryGood\"})\n",
    "diamonds2 = pd.concat([diamonds,cut_dummy2], axis =1)\n",
    "diamonds2"
   ]
  },
  {
   "cell_type": "code",
   "execution_count": 22,
   "metadata": {},
   "outputs": [
    {
     "name": "stdout",
     "output_type": "stream",
     "text": [
      "results.summary(): \n",
      "                            OLS Regression Results                            \n",
      "==============================================================================\n",
      "Dep. Variable:                  price   R-squared:                       0.916\n",
      "Model:                            OLS   Adj. R-squared:                  0.916\n",
      "Method:                 Least Squares   F-statistic:                 2.942e+04\n",
      "Date:                Mon, 12 Dec 2022   Prob (F-statistic):               0.00\n",
      "Time:                        00:14:04   Log-Likelihood:            -4.5696e+05\n",
      "No. Observations:               53940   AIC:                         9.140e+05\n",
      "Df Residuals:                   53919   BIC:                         9.141e+05\n",
      "Df Model:                          20                                         \n",
      "Covariance Type:            nonrobust                                         \n",
      "===================================================================================\n",
      "                      coef    std err          t      P>|t|      [0.025      0.975]\n",
      "-----------------------------------------------------------------------------------\n",
      "Intercept       -3283.2352    303.680    -10.811      0.000   -3878.451   -2688.020\n",
      "color[T.E]       -210.8490     18.304    -11.519      0.000    -246.726    -174.972\n",
      "color[T.F]       -304.2876     18.498    -16.450      0.000    -340.543    -268.032\n",
      "color[T.G]       -506.9637     18.116    -27.984      0.000    -542.472    -471.456\n",
      "color[T.H]       -977.9737     19.269    -50.754      0.000   -1015.741    -940.207\n",
      "color[T.I]      -1438.2773     21.642    -66.459      0.000   -1480.695   -1395.860\n",
      "color[T.J]      -2322.5649     26.715    -86.940      0.000   -2374.926   -2270.204\n",
      "clarity[T.IF]    5404.2365     52.174    103.582      0.000    5301.976    5506.497\n",
      "clarity[T.SI1]   3567.7938     44.587     80.020      0.000    3480.404    3655.184\n",
      "clarity[T.SI2]   2619.0040     44.788     58.476      0.000    2531.220    2706.788\n",
      "clarity[T.VS1]   4525.4001     45.547     99.356      0.000    4436.127    4614.673\n",
      "clarity[T.VS2]   4210.1943     44.840     93.893      0.000    4122.307    4298.082\n",
      "clarity[T.VVS1]  5061.7344     48.224    104.964      0.000    4967.216    5156.253\n",
      "clarity[T.VVS2]  4957.3104     46.901    105.697      0.000    4865.384    5049.237\n",
      "Fair            -1271.9362     73.101    -17.400      0.000   -1415.214   -1128.658\n",
      "Good             -657.5122     64.375    -10.214      0.000    -783.688    -531.336\n",
      "VeryGood         -493.5080     60.103     -8.211      0.000    -611.311    -375.705\n",
      "Premium          -465.9118     59.735     -7.800      0.000    -582.992    -348.831\n",
      "Ideal            -394.3670     55.248     -7.138      0.000    -502.653    -286.081\n",
      "carat            8895.1940     12.079    736.390      0.000    8871.518    8918.870\n",
      "depth             -21.0236      4.079     -5.154      0.000     -29.019     -13.028\n",
      "table             -24.8027      2.978     -8.329      0.000     -30.639     -18.966\n",
      "==============================================================================\n",
      "Omnibus:                    15255.775   Durbin-Watson:                   0.908\n",
      "Prob(Omnibus):                  0.000   Jarque-Bera (JB):           184788.880\n",
      "Skew:                           1.016   Prob(JB):                         0.00\n",
      "Kurtosis:                      11.837   Cond. No.                     3.09e+15\n",
      "==============================================================================\n",
      "\n",
      "Notes:\n",
      "[1] Standard Errors assume that the covariance matrix of the errors is correctly specified.\n",
      "[2] The smallest eigenvalue is 4.02e-23. This might indicate that there are\n",
      "strong multicollinearity problems or that the design matrix is singular.\n",
      "\n"
     ]
    }
   ],
   "source": [
    "# estimate the linear regression model:\n",
    "model2 = smf.ols(formula='price ~ Fair+ Good + VeryGood + Premium +Ideal+ carat + color + clarity + depth + table', data=diamonds2)\n",
    "model2 = model2.fit()\n",
    "\n",
    "# print results using summary:\n",
    "print(f'results.summary(): \\n{model2.summary()}\\n')"
   ]
  },
  {
   "cell_type": "markdown",
   "metadata": {},
   "source": [
    "Model 2 is a key innovation by breaking cut down into a series of dummy variables with cut quality ranked from low to high: Fair, Good, VeryGood, Premium, Ideal. I found that coefficients of these five dummy variables are negative which indicates an inverse relationship with price. Besides, the result shows that the coefficient increases as the level of cut increases. For example, a diamond with a fair cut has a coefficient of -1271.9362 and a diamond with an ideal cut has a coefficient of -394.3670. This implies that the better the cut is, the smaller effect on the inverse relationship it has to the price."
   ]
  },
  {
   "cell_type": "markdown",
   "metadata": {},
   "source": [
    "# Model 3"
   ]
  },
  {
   "cell_type": "code",
   "execution_count": 23,
   "metadata": {},
   "outputs": [
    {
     "data": {
      "text/html": [
       "<div>\n",
       "<style scoped>\n",
       "    .dataframe tbody tr th:only-of-type {\n",
       "        vertical-align: middle;\n",
       "    }\n",
       "\n",
       "    .dataframe tbody tr th {\n",
       "        vertical-align: top;\n",
       "    }\n",
       "\n",
       "    .dataframe thead th {\n",
       "        text-align: right;\n",
       "    }\n",
       "</style>\n",
       "<table border=\"1\" class=\"dataframe\">\n",
       "  <thead>\n",
       "    <tr style=\"text-align: right;\">\n",
       "      <th></th>\n",
       "      <th>Unnamed: 0</th>\n",
       "      <th>carat</th>\n",
       "      <th>cut</th>\n",
       "      <th>color</th>\n",
       "      <th>clarity</th>\n",
       "      <th>depth</th>\n",
       "      <th>table</th>\n",
       "      <th>price</th>\n",
       "      <th>x</th>\n",
       "      <th>y</th>\n",
       "      <th>z</th>\n",
       "      <th>D</th>\n",
       "      <th>E</th>\n",
       "      <th>F</th>\n",
       "      <th>G</th>\n",
       "      <th>H</th>\n",
       "      <th>I</th>\n",
       "      <th>J</th>\n",
       "    </tr>\n",
       "  </thead>\n",
       "  <tbody>\n",
       "    <tr>\n",
       "      <th>0</th>\n",
       "      <td>1</td>\n",
       "      <td>0.23</td>\n",
       "      <td>Ideal</td>\n",
       "      <td>E</td>\n",
       "      <td>SI2</td>\n",
       "      <td>61.5</td>\n",
       "      <td>55.0</td>\n",
       "      <td>326</td>\n",
       "      <td>3.95</td>\n",
       "      <td>3.98</td>\n",
       "      <td>2.43</td>\n",
       "      <td>0</td>\n",
       "      <td>1</td>\n",
       "      <td>0</td>\n",
       "      <td>0</td>\n",
       "      <td>0</td>\n",
       "      <td>0</td>\n",
       "      <td>0</td>\n",
       "    </tr>\n",
       "    <tr>\n",
       "      <th>1</th>\n",
       "      <td>2</td>\n",
       "      <td>0.21</td>\n",
       "      <td>Premium</td>\n",
       "      <td>E</td>\n",
       "      <td>SI1</td>\n",
       "      <td>59.8</td>\n",
       "      <td>61.0</td>\n",
       "      <td>326</td>\n",
       "      <td>3.89</td>\n",
       "      <td>3.84</td>\n",
       "      <td>2.31</td>\n",
       "      <td>0</td>\n",
       "      <td>1</td>\n",
       "      <td>0</td>\n",
       "      <td>0</td>\n",
       "      <td>0</td>\n",
       "      <td>0</td>\n",
       "      <td>0</td>\n",
       "    </tr>\n",
       "    <tr>\n",
       "      <th>2</th>\n",
       "      <td>3</td>\n",
       "      <td>0.23</td>\n",
       "      <td>Good</td>\n",
       "      <td>E</td>\n",
       "      <td>VS1</td>\n",
       "      <td>56.9</td>\n",
       "      <td>65.0</td>\n",
       "      <td>327</td>\n",
       "      <td>4.05</td>\n",
       "      <td>4.07</td>\n",
       "      <td>2.31</td>\n",
       "      <td>0</td>\n",
       "      <td>1</td>\n",
       "      <td>0</td>\n",
       "      <td>0</td>\n",
       "      <td>0</td>\n",
       "      <td>0</td>\n",
       "      <td>0</td>\n",
       "    </tr>\n",
       "    <tr>\n",
       "      <th>3</th>\n",
       "      <td>4</td>\n",
       "      <td>0.29</td>\n",
       "      <td>Premium</td>\n",
       "      <td>I</td>\n",
       "      <td>VS2</td>\n",
       "      <td>62.4</td>\n",
       "      <td>58.0</td>\n",
       "      <td>334</td>\n",
       "      <td>4.20</td>\n",
       "      <td>4.23</td>\n",
       "      <td>2.63</td>\n",
       "      <td>0</td>\n",
       "      <td>0</td>\n",
       "      <td>0</td>\n",
       "      <td>0</td>\n",
       "      <td>0</td>\n",
       "      <td>1</td>\n",
       "      <td>0</td>\n",
       "    </tr>\n",
       "    <tr>\n",
       "      <th>4</th>\n",
       "      <td>5</td>\n",
       "      <td>0.31</td>\n",
       "      <td>Good</td>\n",
       "      <td>J</td>\n",
       "      <td>SI2</td>\n",
       "      <td>63.3</td>\n",
       "      <td>58.0</td>\n",
       "      <td>335</td>\n",
       "      <td>4.34</td>\n",
       "      <td>4.35</td>\n",
       "      <td>2.75</td>\n",
       "      <td>0</td>\n",
       "      <td>0</td>\n",
       "      <td>0</td>\n",
       "      <td>0</td>\n",
       "      <td>0</td>\n",
       "      <td>0</td>\n",
       "      <td>1</td>\n",
       "    </tr>\n",
       "    <tr>\n",
       "      <th>...</th>\n",
       "      <td>...</td>\n",
       "      <td>...</td>\n",
       "      <td>...</td>\n",
       "      <td>...</td>\n",
       "      <td>...</td>\n",
       "      <td>...</td>\n",
       "      <td>...</td>\n",
       "      <td>...</td>\n",
       "      <td>...</td>\n",
       "      <td>...</td>\n",
       "      <td>...</td>\n",
       "      <td>...</td>\n",
       "      <td>...</td>\n",
       "      <td>...</td>\n",
       "      <td>...</td>\n",
       "      <td>...</td>\n",
       "      <td>...</td>\n",
       "      <td>...</td>\n",
       "    </tr>\n",
       "    <tr>\n",
       "      <th>53935</th>\n",
       "      <td>53936</td>\n",
       "      <td>0.72</td>\n",
       "      <td>Ideal</td>\n",
       "      <td>D</td>\n",
       "      <td>SI1</td>\n",
       "      <td>60.8</td>\n",
       "      <td>57.0</td>\n",
       "      <td>2757</td>\n",
       "      <td>5.75</td>\n",
       "      <td>5.76</td>\n",
       "      <td>3.50</td>\n",
       "      <td>1</td>\n",
       "      <td>0</td>\n",
       "      <td>0</td>\n",
       "      <td>0</td>\n",
       "      <td>0</td>\n",
       "      <td>0</td>\n",
       "      <td>0</td>\n",
       "    </tr>\n",
       "    <tr>\n",
       "      <th>53936</th>\n",
       "      <td>53937</td>\n",
       "      <td>0.72</td>\n",
       "      <td>Good</td>\n",
       "      <td>D</td>\n",
       "      <td>SI1</td>\n",
       "      <td>63.1</td>\n",
       "      <td>55.0</td>\n",
       "      <td>2757</td>\n",
       "      <td>5.69</td>\n",
       "      <td>5.75</td>\n",
       "      <td>3.61</td>\n",
       "      <td>1</td>\n",
       "      <td>0</td>\n",
       "      <td>0</td>\n",
       "      <td>0</td>\n",
       "      <td>0</td>\n",
       "      <td>0</td>\n",
       "      <td>0</td>\n",
       "    </tr>\n",
       "    <tr>\n",
       "      <th>53937</th>\n",
       "      <td>53938</td>\n",
       "      <td>0.70</td>\n",
       "      <td>Very Good</td>\n",
       "      <td>D</td>\n",
       "      <td>SI1</td>\n",
       "      <td>62.8</td>\n",
       "      <td>60.0</td>\n",
       "      <td>2757</td>\n",
       "      <td>5.66</td>\n",
       "      <td>5.68</td>\n",
       "      <td>3.56</td>\n",
       "      <td>1</td>\n",
       "      <td>0</td>\n",
       "      <td>0</td>\n",
       "      <td>0</td>\n",
       "      <td>0</td>\n",
       "      <td>0</td>\n",
       "      <td>0</td>\n",
       "    </tr>\n",
       "    <tr>\n",
       "      <th>53938</th>\n",
       "      <td>53939</td>\n",
       "      <td>0.86</td>\n",
       "      <td>Premium</td>\n",
       "      <td>H</td>\n",
       "      <td>SI2</td>\n",
       "      <td>61.0</td>\n",
       "      <td>58.0</td>\n",
       "      <td>2757</td>\n",
       "      <td>6.15</td>\n",
       "      <td>6.12</td>\n",
       "      <td>3.74</td>\n",
       "      <td>0</td>\n",
       "      <td>0</td>\n",
       "      <td>0</td>\n",
       "      <td>0</td>\n",
       "      <td>1</td>\n",
       "      <td>0</td>\n",
       "      <td>0</td>\n",
       "    </tr>\n",
       "    <tr>\n",
       "      <th>53939</th>\n",
       "      <td>53940</td>\n",
       "      <td>0.75</td>\n",
       "      <td>Ideal</td>\n",
       "      <td>D</td>\n",
       "      <td>SI2</td>\n",
       "      <td>62.2</td>\n",
       "      <td>55.0</td>\n",
       "      <td>2757</td>\n",
       "      <td>5.83</td>\n",
       "      <td>5.87</td>\n",
       "      <td>3.64</td>\n",
       "      <td>1</td>\n",
       "      <td>0</td>\n",
       "      <td>0</td>\n",
       "      <td>0</td>\n",
       "      <td>0</td>\n",
       "      <td>0</td>\n",
       "      <td>0</td>\n",
       "    </tr>\n",
       "  </tbody>\n",
       "</table>\n",
       "<p>53940 rows × 18 columns</p>\n",
       "</div>"
      ],
      "text/plain": [
       "       Unnamed: 0  carat        cut color clarity  depth  table  price     x  \\\n",
       "0               1   0.23      Ideal     E     SI2   61.5   55.0    326  3.95   \n",
       "1               2   0.21    Premium     E     SI1   59.8   61.0    326  3.89   \n",
       "2               3   0.23       Good     E     VS1   56.9   65.0    327  4.05   \n",
       "3               4   0.29    Premium     I     VS2   62.4   58.0    334  4.20   \n",
       "4               5   0.31       Good     J     SI2   63.3   58.0    335  4.34   \n",
       "...           ...    ...        ...   ...     ...    ...    ...    ...   ...   \n",
       "53935       53936   0.72      Ideal     D     SI1   60.8   57.0   2757  5.75   \n",
       "53936       53937   0.72       Good     D     SI1   63.1   55.0   2757  5.69   \n",
       "53937       53938   0.70  Very Good     D     SI1   62.8   60.0   2757  5.66   \n",
       "53938       53939   0.86    Premium     H     SI2   61.0   58.0   2757  6.15   \n",
       "53939       53940   0.75      Ideal     D     SI2   62.2   55.0   2757  5.83   \n",
       "\n",
       "          y     z  D  E  F  G  H  I  J  \n",
       "0      3.98  2.43  0  1  0  0  0  0  0  \n",
       "1      3.84  2.31  0  1  0  0  0  0  0  \n",
       "2      4.07  2.31  0  1  0  0  0  0  0  \n",
       "3      4.23  2.63  0  0  0  0  0  1  0  \n",
       "4      4.35  2.75  0  0  0  0  0  0  1  \n",
       "...     ...   ... .. .. .. .. .. .. ..  \n",
       "53935  5.76  3.50  1  0  0  0  0  0  0  \n",
       "53936  5.75  3.61  1  0  0  0  0  0  0  \n",
       "53937  5.68  3.56  1  0  0  0  0  0  0  \n",
       "53938  6.12  3.74  0  0  0  0  1  0  0  \n",
       "53939  5.87  3.64  1  0  0  0  0  0  0  \n",
       "\n",
       "[53940 rows x 18 columns]"
      ]
     },
     "execution_count": 23,
     "metadata": {},
     "output_type": "execute_result"
    }
   ],
   "source": [
    "# further break down the color variable into dummy variables based on model 2\n",
    "color_dummy = pd.get_dummies(diamonds['color'])\n",
    "diamonds3 = pd.concat([diamonds, color_dummy], axis = 1)\n",
    "diamonds3"
   ]
  },
  {
   "cell_type": "code",
   "execution_count": 24,
   "metadata": {},
   "outputs": [
    {
     "name": "stdout",
     "output_type": "stream",
     "text": [
      "results.summary(): \n",
      "                            OLS Regression Results                            \n",
      "==============================================================================\n",
      "Dep. Variable:                  price   R-squared:                       0.916\n",
      "Model:                            OLS   Adj. R-squared:                  0.916\n",
      "Method:                 Least Squares   F-statistic:                 2.942e+04\n",
      "Date:                Mon, 12 Dec 2022   Prob (F-statistic):               0.00\n",
      "Time:                        00:15:18   Log-Likelihood:            -4.5696e+05\n",
      "No. Observations:               53940   AIC:                         9.140e+05\n",
      "Df Residuals:                   53919   BIC:                         9.141e+05\n",
      "Df Model:                          20                                         \n",
      "Covariance Type:            nonrobust                                         \n",
      "===================================================================================\n",
      "                      coef    std err          t      P>|t|      [0.025      0.975]\n",
      "-----------------------------------------------------------------------------------\n",
      "Intercept       -3546.8183    271.404    -13.068      0.000   -4078.772   -3014.865\n",
      "clarity[T.IF]    5404.2365     52.174    103.582      0.000    5301.976    5506.497\n",
      "clarity[T.SI1]   3567.7938     44.587     80.020      0.000    3480.404    3655.184\n",
      "clarity[T.SI2]   2619.0040     44.788     58.476      0.000    2531.220    2706.788\n",
      "clarity[T.VS1]   4525.4001     45.547     99.356      0.000    4436.127    4614.673\n",
      "clarity[T.VS2]   4210.1943     44.840     93.893      0.000    4122.307    4298.082\n",
      "clarity[T.VVS1]  5061.7344     48.224    104.964      0.000    4967.216    5156.253\n",
      "clarity[T.VVS2]  4957.3104     46.901    105.697      0.000    4865.384    5049.237\n",
      "cut_dummy[0]    -1324.6528     67.037    -19.760      0.000   -1456.046   -1193.259\n",
      "cut_dummy[1]     -710.2288     58.115    -12.221      0.000    -824.135    -596.323\n",
      "cut_dummy[2]     -447.0836     48.929     -9.137      0.000    -542.985    -351.182\n",
      "cut_dummy[3]     -518.6284     53.400     -9.712      0.000    -623.294    -413.963\n",
      "cut_dummy[4]     -546.2246     53.772    -10.158      0.000    -651.619    -440.830\n",
      "carat            8895.1940     12.079    736.390      0.000    8871.518    8918.870\n",
      "D                 316.2997     40.748      7.762      0.000     236.434     396.166\n",
      "E                 105.4507     40.183      2.624      0.009      26.691     184.210\n",
      "F                  12.0121     40.078      0.300      0.764     -66.541      90.565\n",
      "G                -190.6640     40.136     -4.750      0.000    -269.331    -111.997\n",
      "H                -661.6740     40.726    -16.247      0.000    -741.497    -581.851\n",
      "I               -1121.9776     41.739    -26.881      0.000   -1203.787   -1040.168\n",
      "J               -2006.2652     43.972    -45.626      0.000   -2092.451   -1920.079\n",
      "depth             -21.0236      4.079     -5.154      0.000     -29.019     -13.028\n",
      "table             -24.8027      2.978     -8.329      0.000     -30.639     -18.966\n",
      "==============================================================================\n",
      "Omnibus:                    15255.775   Durbin-Watson:                   0.908\n",
      "Prob(Omnibus):                  0.000   Jarque-Bera (JB):           184788.880\n",
      "Skew:                           1.016   Prob(JB):                         0.00\n",
      "Kurtosis:                      11.837   Cond. No.                     1.11e+16\n",
      "==============================================================================\n",
      "\n",
      "Notes:\n",
      "[1] Standard Errors assume that the covariance matrix of the errors is correctly specified.\n",
      "[2] The smallest eigenvalue is 3.12e-24. This might indicate that there are\n",
      "strong multicollinearity problems or that the design matrix is singular.\n",
      "\n"
     ]
    }
   ],
   "source": [
    "# estimate the linear regression model:\n",
    "model3 = smf.ols(formula='price ~ cut_dummy + carat + D + E +F + G + H + I + J + clarity + depth + table', data=diamonds3 )\n",
    "model3 = model3.fit()\n",
    "\n",
    "# print results using summary:\n",
    "print(f'results.summary(): \\n{model3.summary()}\\n')"
   ]
  },
  {
   "cell_type": "markdown",
   "metadata": {},
   "source": [
    "Model 3 further breaks down color into 7 dummy variables from D(the best) to J(the worst) based on model 2. In model 1, I found an inverse relationship between color and price. However, in model 3, I found that different color dummy variables have different influences on diamonds' price. The result depicts that color from the best (D) to the worst (J) has a decreasing coefficient. D-rank color has a coefficient of 316. 2997 while J-rank color has a coefficient of -2006.2652. D-rank color to F-rank color have positive coefficients, indicating having a D-rank color to F-rank color is helpful with increasing the price of a diamond. On the other hand, the G-rank color to J-rank color has negative coefficients, implying that having a G-rank color to J-rank color has a negative effect on the price of the diamond and that the worse the color, the more influences the inverse relationship have on the price."
   ]
  },
  {
   "cell_type": "markdown",
   "metadata": {},
   "source": [
    "# OLS Regression Results"
   ]
  },
  {
   "cell_type": "code",
   "execution_count": 25,
   "metadata": {},
   "outputs": [
    {
     "data": {
      "text/html": [
       "<table style=\"text-align:center\"><tr><td colspan=\"4\" style=\"border-bottom: 1px solid black\"></td></tr><tr><td style=\"text-align:left\"></td><td colspan=\"3\"><em>Dependent variable:price</em></td></tr><tr><td style=\"text-align:left\"></td><tr><td style=\"text-align:left\"></td><td>(1)</td><td>(2)</td><td>(3)</td></tr><tr><td colspan=\"4\" style=\"border-bottom: 1px solid black\"></td></tr><tr><td style=\"text-align:left\">carat</td><td>8895.194<sup>***</sup></td><td>8895.194<sup>***</sup></td><td>8895.194<sup>***</sup></td></tr><tr><td style=\"text-align:left\"></td><td>(12.079)</td><td>(12.079)</td><td>(12.079)</td></tr><tr><td style=\"text-align:left\">depth</td><td>-21.024<sup>***</sup></td><td>-21.024<sup>***</sup></td><td>-21.024<sup>***</sup></td></tr><tr><td style=\"text-align:left\"></td><td>(4.079)</td><td>(4.079)</td><td>(4.079)</td></tr><tr><td style=\"text-align:left\">table</td><td>-24.803<sup>***</sup></td><td>-24.803<sup>***</sup></td><td>-24.803<sup>***</sup></td></tr><tr><td style=\"text-align:left\"></td><td>(2.978)</td><td>(2.978)</td><td>(2.978)</td></tr><td colspan=\"4\" style=\"border-bottom: 1px solid black\"></td></tr><tr><td style=\"text-align: left\">Observations</td><td>53,940</td><td>53,940</td><td>53,940</td></tr><tr><td style=\"text-align: left\">R<sup>2</sup></td><td>0.916</td><td>0.916</td><td>0.916</td></tr><tr><td style=\"text-align: left\">Adjusted R<sup>2</sup></td><td>0.916</td><td>0.916</td><td>0.916</td></tr><tr><td style=\"text-align: left\">Residual Std. Error</td><td>1156.090 (df=53919)</td><td>1156.090 (df=53919)</td><td>1156.090 (df=53919)</td></tr><tr><td style=\"text-align: left\">F Statistic</td><td>29419.462<sup>***</sup> (df=20; 53919)</td><td>29419.462<sup>***</sup> (df=20; 53919)</td><td>29419.462<sup>***</sup> (df=20; 53919)</td></tr><tr><td colspan=\"4\" style=\"border-bottom: 1px solid black\"></td></tr><tr><td style=\"text-align: left\">Note:</td>\n",
       " <td colspan=\"3\" style=\"text-align: right\">\n",
       "  <sup>*</sup>p&lt;0.1;\n",
       "  <sup>**</sup>p&lt;0.05;\n",
       "  <sup>***</sup>p&lt;0.01\n",
       " </td></tr></table>"
      ],
      "text/plain": [
       "<IPython.core.display.HTML object>"
      ]
     },
     "execution_count": 25,
     "metadata": {},
     "output_type": "execute_result"
    }
   ],
   "source": [
    "# use stargazer to view the OLS outputs \n",
    "st=Stargazer([model1, model2, model3])\n",
    "st.covariate_order(['carat', 'depth','table'])\n",
    "from IPython.core.display import HTML\n",
    "HTML(st.render_html()) "
   ]
  },
  {
   "cell_type": "markdown",
   "metadata": {},
   "source": [
    "# Calculate VIF"
   ]
  },
  {
   "cell_type": "code",
   "execution_count": 26,
   "metadata": {},
   "outputs": [
    {
     "name": "stdout",
     "output_type": "stream",
     "text": [
      "     feature          VIF\n",
      "0      price     6.834162\n",
      "1      carat     7.000691\n",
      "2      depth     1.124433\n",
      "3      table     1.164433\n",
      "4  Intercept  3611.931933\n"
     ]
    }
   ],
   "source": [
    "# Calculate VIF :\n",
    "# VIF dataframe\n",
    "X = diamonds[['price', 'carat','depth','table']].copy()\n",
    "X['Intercept'] = 1\n",
    "vif_data = pd.DataFrame()\n",
    "vif_data[\"feature\"] = X.columns\n",
    "  \n",
    "# calculating VIF for each feature\n",
    "vif_data[\"VIF\"] = [variance_inflation_factor(X.values, i)\n",
    "                          for i in range(len(X.columns))]\n",
    "  \n",
    "print(vif_data)"
   ]
  },
  {
   "cell_type": "markdown",
   "metadata": {},
   "source": [
    "VIF shows the multicollinearity between the independent variables. Carat, with a VIF of 7, is highly correlated with other independent variables such as depth and table. Meanwhile, depth and table have the VIF of 1.12 and 1.16 respectively, showing that they are somehow correlated with other independent variables but not as significant as carat is."
   ]
  },
  {
   "cell_type": "markdown",
   "metadata": {},
   "source": [
    "# Inference Test"
   ]
  },
  {
   "cell_type": "markdown",
   "metadata": {},
   "source": [
    "## Test 1"
   ]
  },
  {
   "cell_type": "markdown",
   "metadata": {},
   "source": [
    "In order to test which factor (among the 6 factors  have) will have the biggest influence on the price of diamonds in linear regression model 1 and model 2, I'm going to conduct an ANOVA test to compare the sequential sum of squares of each independent variable.\n",
    "\n",
    "My hypothesis is that the degree of influences of 6 factors on the price will be arranged as carat > clarity > cut > color > depth > table"
   ]
  },
  {
   "cell_type": "code",
   "execution_count": 27,
   "metadata": {},
   "outputs": [
    {
     "data": {
      "text/html": [
       "<div>\n",
       "<style scoped>\n",
       "    .dataframe tbody tr th:only-of-type {\n",
       "        vertical-align: middle;\n",
       "    }\n",
       "\n",
       "    .dataframe tbody tr th {\n",
       "        vertical-align: top;\n",
       "    }\n",
       "\n",
       "    .dataframe thead th {\n",
       "        text-align: right;\n",
       "    }\n",
       "</style>\n",
       "<table border=\"1\" class=\"dataframe\">\n",
       "  <thead>\n",
       "    <tr style=\"text-align: right;\">\n",
       "      <th></th>\n",
       "      <th>df</th>\n",
       "      <th>sum_sq</th>\n",
       "      <th>mean_sq</th>\n",
       "      <th>F</th>\n",
       "      <th>PR(&gt;F)</th>\n",
       "    </tr>\n",
       "  </thead>\n",
       "  <tbody>\n",
       "    <tr>\n",
       "      <th>clarity</th>\n",
       "      <td>7.0</td>\n",
       "      <td>2.330780e+10</td>\n",
       "      <td>3.329686e+09</td>\n",
       "      <td>2491.265865</td>\n",
       "      <td>0.000000e+00</td>\n",
       "    </tr>\n",
       "    <tr>\n",
       "      <th>cut</th>\n",
       "      <td>4.0</td>\n",
       "      <td>6.643754e+09</td>\n",
       "      <td>1.660938e+09</td>\n",
       "      <td>1242.711508</td>\n",
       "      <td>0.000000e+00</td>\n",
       "    </tr>\n",
       "    <tr>\n",
       "      <th>color</th>\n",
       "      <td>6.0</td>\n",
       "      <td>2.659499e+10</td>\n",
       "      <td>4.432499e+09</td>\n",
       "      <td>3316.388757</td>\n",
       "      <td>0.000000e+00</td>\n",
       "    </tr>\n",
       "    <tr>\n",
       "      <th>carat</th>\n",
       "      <td>1.0</td>\n",
       "      <td>7.297638e+11</td>\n",
       "      <td>7.297638e+11</td>\n",
       "      <td>546008.120990</td>\n",
       "      <td>0.000000e+00</td>\n",
       "    </tr>\n",
       "    <tr>\n",
       "      <th>depth</th>\n",
       "      <td>1.0</td>\n",
       "      <td>4.940529e+06</td>\n",
       "      <td>4.940529e+06</td>\n",
       "      <td>3.696496</td>\n",
       "      <td>5.453212e-02</td>\n",
       "    </tr>\n",
       "    <tr>\n",
       "      <th>table</th>\n",
       "      <td>1.0</td>\n",
       "      <td>9.272659e+07</td>\n",
       "      <td>9.272659e+07</td>\n",
       "      <td>69.377888</td>\n",
       "      <td>8.318118e-17</td>\n",
       "    </tr>\n",
       "    <tr>\n",
       "      <th>Residual</th>\n",
       "      <td>53919.0</td>\n",
       "      <td>7.206511e+10</td>\n",
       "      <td>1.336544e+06</td>\n",
       "      <td>NaN</td>\n",
       "      <td>NaN</td>\n",
       "    </tr>\n",
       "  </tbody>\n",
       "</table>\n",
       "</div>"
      ],
      "text/plain": [
       "               df        sum_sq       mean_sq              F        PR(>F)\n",
       "clarity       7.0  2.330780e+10  3.329686e+09    2491.265865  0.000000e+00\n",
       "cut           4.0  6.643754e+09  1.660938e+09    1242.711508  0.000000e+00\n",
       "color         6.0  2.659499e+10  4.432499e+09    3316.388757  0.000000e+00\n",
       "carat         1.0  7.297638e+11  7.297638e+11  546008.120990  0.000000e+00\n",
       "depth         1.0  4.940529e+06  4.940529e+06       3.696496  5.453212e-02\n",
       "table         1.0  9.272659e+07  9.272659e+07      69.377888  8.318118e-17\n",
       "Residual  53919.0  7.206511e+10  1.336544e+06            NaN           NaN"
      ]
     },
     "metadata": {},
     "output_type": "display_data"
    }
   ],
   "source": [
    "model1_order = smf.ols(formula='price ~ carat + clarity + cut + color + depth + table', data=diamonds).fit()\n",
    "anova_results = anova_lm(model1_order)\n",
    "display(anova_results)"
   ]
  },
  {
   "cell_type": "markdown",
   "metadata": {},
   "source": [
    "I found that the sequential sum of squares for carat is the largest, and that represents the variability in the price that is explained by the linear relationship between price and carat. In addition, the sequential sum of squares for depth and table is relatively small compared to other factors, indicating that these two variables are probably not useful for estimating the price of diamonds. Thus, I can conclude that carat plays the most important role in assessing the price of diamonds, and then color, clarity, and cut."
   ]
  },
  {
   "cell_type": "markdown",
   "metadata": {},
   "source": [
    "## Test 2"
   ]
  },
  {
   "cell_type": "markdown",
   "metadata": {},
   "source": [
    "Comparing my hypothesis for Test 1 and the ANOVA result of Test 1, I made a wrong guess of cut's influence on the price of diamonds. I also broke down the cut variable into several dummy variables. Therefore, I decide to do an ANOVA test with cut's dummy variables based on Test 1. According to the result of Test 1, I don't consider variables depth and table anymore."
   ]
  },
  {
   "cell_type": "code",
   "execution_count": 28,
   "metadata": {},
   "outputs": [
    {
     "data": {
      "text/html": [
       "<div>\n",
       "<style scoped>\n",
       "    .dataframe tbody tr th:only-of-type {\n",
       "        vertical-align: middle;\n",
       "    }\n",
       "\n",
       "    .dataframe tbody tr th {\n",
       "        vertical-align: top;\n",
       "    }\n",
       "\n",
       "    .dataframe thead th {\n",
       "        text-align: right;\n",
       "    }\n",
       "</style>\n",
       "<table border=\"1\" class=\"dataframe\">\n",
       "  <thead>\n",
       "    <tr style=\"text-align: right;\">\n",
       "      <th></th>\n",
       "      <th>df</th>\n",
       "      <th>sum_sq</th>\n",
       "      <th>mean_sq</th>\n",
       "      <th>F</th>\n",
       "      <th>PR(&gt;F)</th>\n",
       "    </tr>\n",
       "  </thead>\n",
       "  <tbody>\n",
       "    <tr>\n",
       "      <th>color</th>\n",
       "      <td>6.0</td>\n",
       "      <td>2.684911e+10</td>\n",
       "      <td>4.474852e+09</td>\n",
       "      <td>3343.279236</td>\n",
       "      <td>0.000000e+00</td>\n",
       "    </tr>\n",
       "    <tr>\n",
       "      <th>clarity</th>\n",
       "      <td>7.0</td>\n",
       "      <td>2.412251e+10</td>\n",
       "      <td>3.446072e+09</td>\n",
       "      <td>2574.651144</td>\n",
       "      <td>0.000000e+00</td>\n",
       "    </tr>\n",
       "    <tr>\n",
       "      <th>Fair</th>\n",
       "      <td>1.0</td>\n",
       "      <td>4.075421e+06</td>\n",
       "      <td>4.075421e+06</td>\n",
       "      <td>3.044854</td>\n",
       "      <td>8.099909e-02</td>\n",
       "    </tr>\n",
       "    <tr>\n",
       "      <th>Good</th>\n",
       "      <td>1.0</td>\n",
       "      <td>1.138863e+08</td>\n",
       "      <td>1.138863e+08</td>\n",
       "      <td>85.087463</td>\n",
       "      <td>2.954205e-20</td>\n",
       "    </tr>\n",
       "    <tr>\n",
       "      <th>VeryGood</th>\n",
       "      <td>1.0</td>\n",
       "      <td>1.632479e+07</td>\n",
       "      <td>1.632479e+07</td>\n",
       "      <td>12.196680</td>\n",
       "      <td>4.791295e-04</td>\n",
       "    </tr>\n",
       "    <tr>\n",
       "      <th>Premium</th>\n",
       "      <td>1.0</td>\n",
       "      <td>5.440647e+09</td>\n",
       "      <td>5.440647e+09</td>\n",
       "      <td>4064.850089</td>\n",
       "      <td>0.000000e+00</td>\n",
       "    </tr>\n",
       "    <tr>\n",
       "      <th>Ideal</th>\n",
       "      <td>1.0</td>\n",
       "      <td>9.592230e+05</td>\n",
       "      <td>9.592230e+05</td>\n",
       "      <td>0.716661</td>\n",
       "      <td>3.972452e-01</td>\n",
       "    </tr>\n",
       "    <tr>\n",
       "      <th>carat</th>\n",
       "      <td>1.0</td>\n",
       "      <td>7.297681e+11</td>\n",
       "      <td>7.297681e+11</td>\n",
       "      <td>545228.880517</td>\n",
       "      <td>0.000000e+00</td>\n",
       "    </tr>\n",
       "    <tr>\n",
       "      <th>Residual</th>\n",
       "      <td>53920.0</td>\n",
       "      <td>7.216986e+10</td>\n",
       "      <td>1.338462e+06</td>\n",
       "      <td>NaN</td>\n",
       "      <td>NaN</td>\n",
       "    </tr>\n",
       "  </tbody>\n",
       "</table>\n",
       "</div>"
      ],
      "text/plain": [
       "               df        sum_sq       mean_sq              F        PR(>F)\n",
       "color         6.0  2.684911e+10  4.474852e+09    3343.279236  0.000000e+00\n",
       "clarity       7.0  2.412251e+10  3.446072e+09    2574.651144  0.000000e+00\n",
       "Fair          1.0  4.075421e+06  4.075421e+06       3.044854  8.099909e-02\n",
       "Good          1.0  1.138863e+08  1.138863e+08      85.087463  2.954205e-20\n",
       "VeryGood      1.0  1.632479e+07  1.632479e+07      12.196680  4.791295e-04\n",
       "Premium       1.0  5.440647e+09  5.440647e+09    4064.850089  0.000000e+00\n",
       "Ideal         1.0  9.592230e+05  9.592230e+05       0.716661  3.972452e-01\n",
       "carat         1.0  7.297681e+11  7.297681e+11  545228.880517  0.000000e+00\n",
       "Residual  53920.0  7.216986e+10  1.338462e+06            NaN           NaN"
      ]
     },
     "metadata": {},
     "output_type": "display_data"
    }
   ],
   "source": [
    "model2_order = smf.ols(formula='price ~ Fair+ Good+ VeryGood + Premium + Ideal+ carat + color + clarity', data=diamonds2).fit()\n",
    "anova_results2 = anova_lm(model2_order)\n",
    "display(anova_results2)"
   ]
  },
  {
   "cell_type": "markdown",
   "metadata": {},
   "source": [
    "After adding dummy variables of cut, I found that the sequential sum of squares of premium is largest over fair, good, very good, and ideal, which indicates that premium has the biggest influences on the price of diamonds than other cut dummy variables.\n",
    "\n"
   ]
  },
  {
   "cell_type": "markdown",
   "metadata": {},
   "source": [
    "# Reference"
   ]
  },
  {
   "cell_type": "markdown",
   "metadata": {},
   "source": [
    "https://www.diamondcouncil.org/Documents/CourseMaterials/AJS/Lesson6.pdf\n",
    "\n",
    "https://www.gia.edu/gia-news-research-diamond-fun-facts#:~:text=Diamonds%20were%20formed%20billions%20of,Earth's%20surface%20through%20volcanic%20activity."
   ]
  },
  {
   "cell_type": "code",
   "execution_count": null,
   "metadata": {},
   "outputs": [],
   "source": []
  }
 ],
 "metadata": {
  "kernelspec": {
   "display_name": "Python 3",
   "language": "python",
   "name": "python3"
  },
  "language_info": {
   "codemirror_mode": {
    "name": "ipython",
    "version": 3
   },
   "file_extension": ".py",
   "mimetype": "text/x-python",
   "name": "python",
   "nbconvert_exporter": "python",
   "pygments_lexer": "ipython3",
   "version": "3.8.5"
  }
 },
 "nbformat": 4,
 "nbformat_minor": 4
}
