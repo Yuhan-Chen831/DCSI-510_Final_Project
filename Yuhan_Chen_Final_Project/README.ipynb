{
 "cells": [
  {
   "cell_type": "markdown",
   "metadata": {},
   "source": [
    "1.What’s the name of your final project? Please describe it as a research question and\n",
    "provide a short description"
   ]
  },
  {
   "cell_type": "markdown",
   "metadata": {},
   "source": [
    "title:Factors Affecting the Price of Diamonds\n",
    "\n",
    "Description:Diamond is the most frequently used gemstone when picking wedding rings or presents for significant others. They are elegant, beautiful, and the most sparkly of all the precious gemstones, which symbolized diamond as with the siginificance of eternalty. Data from the Diamond Council of America (DCA) shows that about 84% of the US brides receive a diamond engagement ring, and that diamond engagement rings account for more than 50% of the total value of the entire bridal jewelry market.\n",
    "However, the diamond itself is just a solid form of carbon arranged in a crystal structure called the diamond cubic. It has the highest hardness and thermal conductivity of any natural material. Most diamonds found are used in industrial applications, such as an abrasive to cut, drill, or grind hard materials. Only a small portion of diamonds go into the jewelry industry and turn into the brilliant shining gemstone. On the other hand, at room temperature and pressure, another solid form of carbon is known as graphite. Questions arose: what makes diamonds so unique from other crystals? Why do wedded couples rush to the diamonds? I wonder what factors determine the price and rarity of a diamond. So I’ve decided to analyze from six factors: carat, cut, color, clarity, depth, and table of a diamond. I hypothesize that all these six factors would contribute to the price decision of the diamonds."
   ]
  },
  {
   "cell_type": "markdown",
   "metadata": {},
   "source": [
    "2. How to run your code?"
   ]
  },
  {
   "cell_type": "markdown",
   "metadata": {},
   "source": [
    "My code is written by python in JupterNotebook, you can run that with run all function\n",
    "\n",
    "I use seaborn, scipy.stats ,statsmodels,stargazer packages and they are already imported in my code file. \n",
    "\n",
    "https://github.com/Yuhan-Chen831/DCSI-510_Final_Project this is my github link"
   ]
  },
  {
   "cell_type": "markdown",
   "metadata": {},
   "source": [
    "3. What data did you collect? How did you collect them? How many data samples did\n",
    "you collect? [3 points]\n",
    "a. Specify exact data sources and your approach.\n",
    "b. Describe what has been changed from your original plan, what challenges\n",
    "you encountered or resolved."
   ]
  },
  {
   "cell_type": "markdown",
   "metadata": {},
   "source": [
    "I collected data from https://raw.githubusercontent.com/amankharwal/Website-data/master/diamonds.csv and https://tradingeconomics.com/united-states/imports-of-jewelry. There are 53940 data in https://raw.githubusercontent.com/amankharwal/Website-data/master/diamonds.csv and 220 sample in https://tradingeconomics.com/united-states/imports-of-jewelry. I use read csv for both dataset. There is no changes against my original plan, however, since data type are not consistent in dataset. Some of them are numericals and some of them are categorical, I use multi-label regression to solve the problem for categorical data set. \n"
   ]
  },
  {
   "cell_type": "markdown",
   "metadata": {},
   "source": [
    "4.What kind of analyses or visualizations did you do? [3 points]\n",
    "a. Describe the figure you made. Explain its setup, meaning of each element.\n",
    "b. Describe your observations and conclusion. Describe the impact of your\n",
    "findings.\n",
    "c. Describe what has been changed from your original plan, what challenges\n",
    "you encountered or resolved"
   ]
  },
  {
   "cell_type": "markdown",
   "metadata": {},
   "source": [
    "I did the correlation graph using scatter plot in the first place to find the inner correlation between variables. I also draw the heat-map using seaborn packages,also finding the inner correlation between variables. From above, we can find some significant features that can make meaningful contribution to the later analysis. After that, I use scatter plot to find out the correlationship between the features that I selected before which are carat, depth, and table. In next part, I draw the pie chart to show the distribution of data sample that lay in different classes according to their cut and bar chart according to their color. In the end, I combined them together with in one box plot which hue by cut and x-labeled by color.\n",
    "\n",
    "My project has confirmed my hypothesis that cut, carat, color, clarity, table, depth all influence the diamonds' price. The regression results show that carat plays the most important role in determining the price of diamonds. We also analyze the effects of color and cut furtherly by breaking down these two categorical variables into dummy variables, and we found that the quality of cut and the rank of color have distinctive influences on diamonds' price independently. What's more, the inference test results show that premium cut significantly affects the price of diamonds.\n",
    "\n",
    "There is not much changes to my original plan. However, since there are more than one factor and classes that I should consider that might affects my hypothesis, I use nested graphes and differ different classes with color.\n"
   ]
  },
  {
   "cell_type": "markdown",
   "metadata": {},
   "source": [
    "5. Future Work [3 points]\n",
    "a. Given more time, what direction would you take to improve your project?\n"
   ]
  },
  {
   "cell_type": "markdown",
   "metadata": {},
   "source": [
    "\n",
    "I will split the dataset into train and test, and I will run multiple machine learning model such as decision tree and clf to build model for predicting diamonds' price with its information. Other than that, I can also collect image of diamond and use image learning such as efficientnet or vgg16 to make it into a diamond classification machine which can tell people more information about a diamond.Besides, if I have chance, I can also make that into a app or a website which requires front end and back end engineering work. I hope my work can provide reference to people who want to purchase diamond. "
   ]
  },
  {
   "cell_type": "code",
   "execution_count": null,
   "metadata": {},
   "outputs": [],
   "source": []
  }
 ],
 "metadata": {
  "kernelspec": {
   "display_name": "Python 3",
   "language": "python",
   "name": "python3"
  },
  "language_info": {
   "codemirror_mode": {
    "name": "ipython",
    "version": 3
   },
   "file_extension": ".py",
   "mimetype": "text/x-python",
   "name": "python",
   "nbconvert_exporter": "python",
   "pygments_lexer": "ipython3",
   "version": "3.8.5"
  }
 },
 "nbformat": 4,
 "nbformat_minor": 4
}
