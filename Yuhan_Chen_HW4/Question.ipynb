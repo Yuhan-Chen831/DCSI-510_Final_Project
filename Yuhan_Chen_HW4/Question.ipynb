{
 "cells": [
  {
   "cell_type": "markdown",
   "metadata": {},
   "source": [
    "What kind of analyses or visualizations did you do? (Similar to Homework 2 Q3,\n",
    "but now you should answer based on your progress, rather than just your plan). [5"
   ]
  },
  {
   "cell_type": "markdown",
   "metadata": {},
   "source": [
    "I did the correlation graph using scatter plot in the first place to find the inner correlation between variables. After that, I also draw the heat-map using seaborn packages,also finding the inner correlation between variables. From above, we can find some significant features that can make meaningful contribution to the later analysis. After that, I use scatter plot to find out the correlationship between the features that I selected before which are carat, depth, and table. In next part, I draw the pie chart to show the distribution of data sample that lay in different classes according to their cut and bar chart according to their color. In the end, I combined them together with in one box plot which hue by cut and x-labeled by color. "
   ]
  },
  {
   "cell_type": "code",
   "execution_count": null,
   "metadata": {},
   "outputs": [],
   "source": []
  }
 ],
 "metadata": {
  "kernelspec": {
   "display_name": "Python 3",
   "language": "python",
   "name": "python3"
  },
  "language_info": {
   "codemirror_mode": {
    "name": "ipython",
    "version": 3
   },
   "file_extension": ".py",
   "mimetype": "text/x-python",
   "name": "python",
   "nbconvert_exporter": "python",
   "pygments_lexer": "ipython3",
   "version": "3.8.5"
  }
 },
 "nbformat": 4,
 "nbformat_minor": 4
}
